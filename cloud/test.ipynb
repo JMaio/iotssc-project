{
 "cells": [
  {
   "cell_type": "code",
   "execution_count": 111,
   "metadata": {},
   "outputs": [],
   "source": [
    "import requests\n",
    "from pprint import pprint"
   ]
  },
  {
   "cell_type": "code",
   "execution_count": 225,
   "metadata": {},
   "outputs": [],
   "source": [
    "# Pelion stuff\n",
    "device_id = \"0\"\n",
    "baseurl = \"https://api.us-east-1.mbedcloud.com\"\n",
    "access_key = \"foo\"\n",
    "# async_id = \"abc\"\n",
    "async_id = \"test\"\n",
    "\n",
    "# webhook\n",
    "wh_url = \"https://webhook.site/928143ad-5d11-454b-b7a6-923b8d9a639e\"\n",
    "\n",
    "# device_url = f\"{baseurl}/v2/device-requests/{device_id}\"\n",
    "headers = {\n",
    "    \"authorization\": f\"bearer {access_key}\",\n",
    "}\n",
    "\n",
    "presubscription_url = f\"/v2/subscriptions/\"\n",
    "subscription_url = f\"/v2/subscriptions/{device_id}\"\n",
    "notification_url = f\"/v2/notification/callback\"\n",
    "\n",
    "resource_uri = \"/3313/0\""
   ]
  },
  {
   "cell_type": "code",
   "execution_count": 143,
   "metadata": {},
   "outputs": [],
   "source": [
    "def subscribe(resourcePath):\n",
    "    return requests.put(f\"{baseurl}{subscription_url}{resourcePath}\", headers=headers)\n",
    "\n",
    "def check_all_subscriptions():\n",
    "    return requests.get(f\"{baseurl}{subscription_url}\", headers=headers)\n",
    "\n",
    "def check_subscription(resourcePath):\n",
    "    return requests.get(f\"{baseurl}{subscription_url}{resourcePath}\", headers=headers)\n",
    "\n",
    "def delete_subscription(resourcePath):\n",
    "    return requests.delete(f\"{baseurl}{subscription_url}{resourcePath}\", headers=headers)\n",
    "\n",
    "def delete_all_subscriptions():\n",
    "    return requests.delete(f\"{baseurl}{subscription_url}\", headers=headers)\n"
   ]
  },
  {
   "cell_type": "code",
   "execution_count": 81,
   "metadata": {},
   "outputs": [],
   "source": [
    "def presubscribe(resourcePath):\n",
    "    body=[{\n",
    "        \"resource-path\": [resourcePath]\n",
    "    }]\n",
    "    return requests.put(f\"{baseurl}{presubscription_url}\", headers=headers, json=body)\n",
    "\n",
    "def check_presubscription():\n",
    "    return requests.get(f\"{baseurl}{presubscription_url}\", headers=headers)\n",
    "\n",
    "def delete_presubscription():\n",
    "    return requests.delete(f\"{baseurl}{presubscription_url}\", headers=headers)"
   ]
  },
  {
   "cell_type": "code",
   "execution_count": 5,
   "metadata": {},
   "outputs": [],
   "source": [
    "def register_callback():\n",
    "    body = {\n",
    "        \"url\": wh_url,\n",
    "    }\n",
    "    return requests.put(f\"{baseurl}{notification_url}\", headers=headers, json=body)\n",
    "\n",
    "def delete_callback():\n",
    "    return requests.delete(f\"{baseurl}{notification_url}\", headers=headers)\n",
    "\n",
    "def check_callback():\n",
    "    return requests.get(f\"{baseurl}{notification_url}\", headers=headers)\n"
   ]
  },
  {
   "cell_type": "code",
   "execution_count": 223,
   "metadata": {},
   "outputs": [],
   "source": [
    "def getresource(resourcePath):\n",
    "    url = f\"/v2/device-requests/{device_id}?async-id={async_id}\"\n",
    "    body = {\n",
    "        \"method\": \"GET\",\n",
    "        \"uri\": resourcePath,\n",
    "    }\n",
    "    return requests.post(f\"{baseurl}{url}\", headers=headers, json=body)\n",
    "\n",
    "def getecho():\n",
    "    url = f\"/v3/devices/{device_id}/echo\"\n",
    "    return requests.get(f\"{baseurl}{url}\", headers=headers)\n",
    "\n"
   ]
  },
  {
   "cell_type": "code",
   "execution_count": 93,
   "metadata": {},
   "outputs": [
    {
     "data": {
      "text/plain": [
       "(<Response [204]>, '')"
      ]
     },
     "execution_count": 93,
     "metadata": {},
     "output_type": "execute_result"
    }
   ],
   "source": [
    "r = presubscribe(\"/3313/*\") # accelerometer, 0, all values\n",
    "r, r.text\n"
   ]
  },
  {
   "cell_type": "code",
   "execution_count": 114,
   "metadata": {},
   "outputs": [
    {
     "name": "stdout",
     "output_type": "stream",
     "text": [
      "<Response [200]>\n",
      "<Response [200]>\n",
      "<Response [200]>\n"
     ]
    }
   ],
   "source": [
    "for i in range(2, 2+3):\n",
    "    r = subscribe(f\"/3313/0/570{i}\") # accelerometer, 0, all values\n",
    "    print(r)\n",
    "    # pprint(r.json())\n"
   ]
  },
  {
   "cell_type": "code",
   "execution_count": 193,
   "metadata": {},
   "outputs": [
    {
     "data": {
      "text/plain": [
       "(<Response [202]>, {'async-response-id': 'test'})"
      ]
     },
     "execution_count": 193,
     "metadata": {},
     "output_type": "execute_result"
    }
   ],
   "source": [
    "r = subscribe(f\"/3313/0/*\") # accelerometer, 0, all values\n",
    "r, r.json()"
   ]
  },
  {
   "cell_type": "code",
   "execution_count": 248,
   "metadata": {},
   "outputs": [
    {
     "data": {
      "text/plain": [
       "(<Response [204]>, '')"
      ]
     },
     "execution_count": 248,
     "metadata": {},
     "output_type": "execute_result"
    }
   ],
   "source": [
    "r = register_callback()\n",
    "r, r.text\n"
   ]
  },
  {
   "cell_type": "code",
   "execution_count": 249,
   "metadata": {},
   "outputs": [
    {
     "data": {
      "text/plain": [
       "(<Response [200]>, '')"
      ]
     },
     "execution_count": 249,
     "metadata": {},
     "output_type": "execute_result"
    }
   ],
   "source": [
    "r = check_subscription(\"/3313/0\")\n",
    "r, r.text\n"
   ]
  },
  {
   "cell_type": "code",
   "execution_count": 250,
   "metadata": {},
   "outputs": [
    {
     "data": {
      "text/plain": [
       "(<Response [200]>, '/3313/0')"
      ]
     },
     "execution_count": 250,
     "metadata": {},
     "output_type": "execute_result"
    }
   ],
   "source": [
    "r = check_all_subscriptions()\n",
    "r, r.text"
   ]
  },
  {
   "cell_type": "code",
   "execution_count": 242,
   "metadata": {},
   "outputs": [
    {
     "data": {
      "text/plain": [
       "<Response [204]>"
      ]
     },
     "execution_count": 242,
     "metadata": {},
     "output_type": "execute_result"
    }
   ],
   "source": [
    "# for i in range(2, 2+3):\n",
    "#     r = delete_subscription(f\"/3313/0/570{i}\")\n",
    "#     print(r)\n",
    "delete_subscription(f\"/3313/0\")\n"
   ]
  },
  {
   "cell_type": "code",
   "execution_count": 240,
   "metadata": {},
   "outputs": [
    {
     "data": {
      "text/plain": [
       "(<Response [204]>, '')"
      ]
     },
     "execution_count": 240,
     "metadata": {},
     "output_type": "execute_result"
    }
   ],
   "source": [
    "r = delete_all_subscriptions()\n",
    "r, r.text"
   ]
  },
  {
   "cell_type": "code",
   "execution_count": 238,
   "metadata": {},
   "outputs": [
    {
     "data": {
      "text/plain": [
       "(<Response [204]>, '')"
      ]
     },
     "execution_count": 238,
     "metadata": {},
     "output_type": "execute_result"
    }
   ],
   "source": [
    "r = delete_callback()\n",
    "r, r.text\n"
   ]
  },
  {
   "cell_type": "code",
   "execution_count": 245,
   "metadata": {},
   "outputs": [
    {
     "data": {
      "text/plain": [
       "(<Response [204]>, '')"
      ]
     },
     "execution_count": 245,
     "metadata": {},
     "output_type": "execute_result"
    }
   ],
   "source": [
    "r = presubscribe(\"/3313/0\")\n",
    "r, r.text"
   ]
  },
  {
   "cell_type": "code",
   "execution_count": 247,
   "metadata": {},
   "outputs": [
    {
     "data": {
      "text/plain": [
       "[{'resource-path': ['/3313/0']}]"
      ]
     },
     "execution_count": 247,
     "metadata": {},
     "output_type": "execute_result"
    }
   ],
   "source": [
    "r = check_presubscription()\n",
    "r.json()"
   ]
  },
  {
   "cell_type": "code",
   "execution_count": 232,
   "metadata": {},
   "outputs": [
    {
     "data": {
      "text/plain": [
       "(<Response [204]>, '')"
      ]
     },
     "execution_count": 232,
     "metadata": {},
     "output_type": "execute_result"
    }
   ],
   "source": [
    "r = delete_presubscription()\n",
    "r, r.text"
   ]
  },
  {
   "cell_type": "code",
   "execution_count": 177,
   "metadata": {},
   "outputs": [
    {
     "data": {
      "text/plain": [
       "(<Response [202]>, '')"
      ]
     },
     "execution_count": 177,
     "metadata": {},
     "output_type": "execute_result"
    }
   ],
   "source": [
    "r = getresource(\"/3313/0\")\n",
    "r, r.text"
   ]
  },
  {
   "cell_type": "code",
   "execution_count": 226,
   "metadata": {},
   "outputs": [
    {
     "name": "stdout",
     "output_type": "stream",
     "text": [
      "<Response [200]>\n"
     ]
    },
    {
     "data": {
      "text/plain": [
       "{'resources': [{'subscribed': False, 'resource_path': '/3201'},\n",
       "  {'subscribed': False, 'resource_path': '/3334/0/5704'},\n",
       "  {'subscribed': False, 'resource_path': '/3/0/11'},\n",
       "  {'subscribed': False, 'resource_path': '/3/0/16'},\n",
       "  {'subscribed': False, 'resource_path': '/3200/0/5501'},\n",
       "  {'subscribed': False, 'resource_path': '/3313'},\n",
       "  {'subscribed': False, 'resource_path': '/1/0'},\n",
       "  {'subscribed': False, 'resource_path': '/3/0/5'},\n",
       "  {'subscribed': True,\n",
       "   'reported': {'value': 'ZGV2X21vZGVsX251bQ==',\n",
       "    'reported_at': '2021-02-14T18:05:29.496Z',\n",
       "    'content_type': 'text/plain',\n",
       "    'expires_at': '2021-02-14T18:06:29.496Z'},\n",
       "   'resource_path': '/3/0/1'},\n",
       "  {'subscribed': False, 'resource_path': '/3/0/17'},\n",
       "  {'subscribed': False, 'resource_path': '/3334/0/5702'},\n",
       "  {'subscribed': False, 'resource_path': '/5000'},\n",
       "  {'subscribed': False, 'resource_path': '/3313/0/5702'},\n",
       "  {'subscribed': True,\n",
       "   'reported': {'value': 'YjQ3ZGVjYWY3ZmFmNTE2MGIyZDE2ZTBhYzU5ODAwYTQzN2UxZDlkMTg5NmM3ZWVjMGQ0MzlkMTE4ZWY3ZjlmMw==',\n",
       "    'reported_at': '2021-02-14T18:05:29.496Z',\n",
       "    'content_type': 'text/plain',\n",
       "    'expires_at': '2021-02-14T18:06:29.496Z'},\n",
       "   'resource_path': '/10252/0/5'},\n",
       "  {'subscribed': False, 'resource_path': '/3201/0/5853'},\n",
       "  {'subscribed': False, 'resource_path': '/10252'},\n",
       "  {'subscribed': True,\n",
       "   'reported': {'value': 'Mw==',\n",
       "    'reported_at': '2021-02-14T18:05:29.496Z',\n",
       "    'content_type': 'text/plain',\n",
       "    'expires_at': '2021-02-14T18:06:29.496Z'},\n",
       "   'resource_path': '/10255/0/0'},\n",
       "  {'subscribed': False, 'resource_path': '/3334/0/5703'},\n",
       "  {'subscribed': False, 'resource_path': '/3201/0/5850'},\n",
       "  {'subscribed': False, 'resource_path': '/1/0/1'},\n",
       "  {'subscribed': False, 'resource_path': '/3/0/4'},\n",
       "  {'subscribed': True,\n",
       "   'reported': {'value': 'MA==',\n",
       "    'reported_at': '2021-02-14T18:05:29.496Z',\n",
       "    'content_type': 'text/plain',\n",
       "    'expires_at': '2021-02-14T18:06:29.496Z'},\n",
       "   'resource_path': '/3/0/2'},\n",
       "  {'subscribed': False, 'resource_path': '/3334'},\n",
       "  {'subscribed': True,\n",
       "   'reported': {'value': 'LTE=',\n",
       "    'reported_at': '2021-02-14T18:05:29.496Z',\n",
       "    'content_type': 'text/plain',\n",
       "    'expires_at': '2021-02-14T18:06:29.496Z'},\n",
       "   'resource_path': '/10252/0/3'},\n",
       "  {'subscribed': False, 'resource_path': '/3334/0'},\n",
       "  {'subscribed': True,\n",
       "   'reported': {'value': 'cHg3SGdjaXlUMW1VdXY5STJYeE5tdz09',\n",
       "    'reported_at': '2021-02-14T18:05:29.496Z',\n",
       "    'content_type': 'text/plain',\n",
       "    'expires_at': '2021-02-14T18:06:29.496Z'},\n",
       "   'resource_path': '/10255/0/3'},\n",
       "  {'subscribed': False, 'resource_path': '/3/0/11/0'},\n",
       "  {'subscribed': False, 'resource_path': '/3/0/13'},\n",
       "  {'subscribed': False, 'resource_path': '/1'},\n",
       "  {'subscribed': False, 'resource_path': '/1/0/6'},\n",
       "  {'subscribed': True,\n",
       "   'reported': {'value': 'MTYxMzMyNTg2MQ==',\n",
       "    'reported_at': '2021-02-14T18:05:29.496Z',\n",
       "    'content_type': 'text/plain',\n",
       "    'expires_at': '2021-02-14T18:06:29.496Z'},\n",
       "   'resource_path': '/10252/0/6'},\n",
       "  {'subscribed': False, 'resource_path': '/3313/0/5703'},\n",
       "  {'subscribed': False, 'resource_path': '/5000/0'},\n",
       "  {'subscribed': False, 'resource_path': '/3/0/18'},\n",
       "  {'subscribed': False, 'resource_path': '/3313/0/5704'},\n",
       "  {'subscribed': True,\n",
       "   'reported': {'value': 'ZGV2X21hbnVmYWN0dXJlcg==',\n",
       "    'reported_at': '2021-02-14T18:05:29.496Z',\n",
       "    'content_type': 'text/plain',\n",
       "    'expires_at': '2021-02-14T18:06:29.496Z'},\n",
       "   'resource_path': '/3/0/0'},\n",
       "  {'subscribed': False, 'resource_path': '/3200'},\n",
       "  {'subscribed': False, 'resource_path': '/1/0/0'},\n",
       "  {'subscribed': False, 'resource_path': '/3200/0'},\n",
       "  {'subscribed': True,\n",
       "   'reported': {'value': '6BZGCAAAAAAAAAHF6BZHCAAAAAAAAAAw6BZICAAAAAAAAAOR',\n",
       "    'reported_at': '2021-02-14T18:07:09.660Z',\n",
       "    'content_type': 'application/vnd.oma.lwm2m+tlv',\n",
       "    'expires_at': '2021-02-14T18:07:09.660Z'},\n",
       "   'resource_path': '/3313/0'},\n",
       "  {'subscribed': False, 'resource_path': '/3201/0'},\n",
       "  {'subscribed': False, 'resource_path': '/1/0/7'},\n",
       "  {'subscribed': False, 'resource_path': '/5000/0/1'},\n",
       "  {'subscribed': True,\n",
       "   'reported': {'value': 'NDVrNVRJaThUS2lpdlMreGhFYUN1UT09',\n",
       "    'reported_at': '2021-02-14T18:05:29.496Z',\n",
       "    'content_type': 'text/plain',\n",
       "    'expires_at': '2021-02-14T18:06:29.496Z'},\n",
       "   'resource_path': '/10255/0/4'},\n",
       "  {'subscribed': False, 'resource_path': '/3/0/21'},\n",
       "  {'subscribed': True,\n",
       "   'reported': {'value': 'MQ==',\n",
       "    'reported_at': '2021-02-14T18:05:29.496Z',\n",
       "    'content_type': 'text/plain',\n",
       "    'expires_at': '2021-02-14T18:06:29.496Z'},\n",
       "   'resource_path': '/10252/0/2'},\n",
       "  {'subscribed': False, 'resource_path': '/1/0/8'}],\n",
       " 'object': 'device-echo',\n",
       " 'device_id': '0',\n",
       " 'endpoint_name': '0',\n",
       " 'updated_at': '2021-02-14T18:07:09.660Z',\n",
       " 'created_at': '2021-02-14T18:07:09.735Z',\n",
       " 'last_reported_at': '2021-02-14T18:07:09.660Z'}"
      ]
     },
     "execution_count": 226,
     "metadata": {},
     "output_type": "execute_result"
    }
   ],
   "source": [
    "r = getecho()\n",
    "print(r)\n",
    "r.json()"
   ]
  },
  {
   "cell_type": "code",
   "execution_count": 176,
   "metadata": {},
   "outputs": [
    {
     "data": {
      "text/plain": [
       "<Response [200]>"
      ]
     },
     "execution_count": 176,
     "metadata": {},
     "output_type": "execute_result"
    }
   ],
   "source": [
    "requests.post(\"https://webhook.site/928143ad-5d11-454b-b7a6-923b8d9a639e\", data=\"hello world\")"
   ]
  },
  {
   "cell_type": "code",
   "execution_count": 109,
   "metadata": {},
   "outputs": [
    {
     "name": "stdout",
     "output_type": "stream",
     "text": [
      "b'\\xe8\\x16F\\x08\\x00\\x00\\x00\\x00\\x00\\x00\\x00\\x1f\\xe8\\x16G\\x08\\x00\\x00\\x00\\x00\\x00\\x00\\x003\\xe8\\x16H\\x08\\x00\\x00\\x00\\x00\\x00\\x00\\x03\\xf0'\n"
     ]
    },
    {
     "ename": "ValueError",
     "evalue": "Not enough data left. 10 vs 22",
     "output_type": "error",
     "traceback": [
      "\u001b[1;31m---------------------------------------------------------------------------\u001b[0m",
      "\u001b[1;31mValueError\u001b[0m                                Traceback (most recent call last)",
      "\u001b[1;32m<ipython-input-109-c6a582813169>\u001b[0m in \u001b[0;36m<module>\u001b[1;34m\u001b[0m\n\u001b[0;32m      6\u001b[0m \u001b[0mprint\u001b[0m\u001b[1;33m(\u001b[0m\u001b[0mmb\u001b[0m\u001b[1;33m)\u001b[0m\u001b[1;33m\u001b[0m\u001b[1;33m\u001b[0m\u001b[0m\n\u001b[0;32m      7\u001b[0m \u001b[1;33m\u001b[0m\u001b[0m\n\u001b[1;32m----> 8\u001b[1;33m \u001b[0mtlv8\u001b[0m\u001b[1;33m.\u001b[0m\u001b[0mdecode\u001b[0m\u001b[1;33m(\u001b[0m\u001b[0mmb\u001b[0m\u001b[1;33m)\u001b[0m\u001b[1;33m\u001b[0m\u001b[1;33m\u001b[0m\u001b[0m\n\u001b[0m",
      "\u001b[1;32m~\\.virtualenvs\\cloud-LmIG7SCj\\lib\\site-packages\\tlv8\\__init__.py\u001b[0m in \u001b[0;36mdecode\u001b[1;34m(data, expected, strict_mode)\u001b[0m\n\u001b[0;32m    273\u001b[0m     \u001b[1;33m:\u001b[0m\u001b[0mraises\u001b[0m\u001b[1;33m:\u001b[0m \u001b[0mValueError\u001b[0m \u001b[0mon\u001b[0m \u001b[0mfailures\u001b[0m \u001b[0mduring\u001b[0m \u001b[0mdecoding\u001b[0m\u001b[1;33m\u001b[0m\u001b[1;33m\u001b[0m\u001b[0m\n\u001b[0;32m    274\u001b[0m     \"\"\"\n\u001b[1;32m--> 275\u001b[1;33m     \u001b[0mtmp\u001b[0m \u001b[1;33m=\u001b[0m \u001b[0m_internal_decode\u001b[0m\u001b[1;33m(\u001b[0m\u001b[0mdata\u001b[0m\u001b[1;33m,\u001b[0m \u001b[0mexpected\u001b[0m\u001b[1;33m,\u001b[0m \u001b[0mstrict_mode\u001b[0m\u001b[1;33m)\u001b[0m\u001b[1;33m\u001b[0m\u001b[1;33m\u001b[0m\u001b[0m\n\u001b[0m\u001b[0;32m    276\u001b[0m \u001b[1;33m\u001b[0m\u001b[0m\n\u001b[0;32m    277\u001b[0m     \u001b[1;31m# if we do not know what is expected, we just return the unfiltered, uninterpreted but parsed list of entries\u001b[0m\u001b[1;33m\u001b[0m\u001b[1;33m\u001b[0m\u001b[1;33m\u001b[0m\u001b[0m\n",
      "\u001b[1;32m~\\.virtualenvs\\cloud-LmIG7SCj\\lib\\site-packages\\tlv8\\__init__.py\u001b[0m in \u001b[0;36m_internal_decode\u001b[1;34m(data, expected, strict_mode)\u001b[0m\n\u001b[0;32m    219\u001b[0m         \u001b[1;32mif\u001b[0m \u001b[0mlen\u001b[0m\u001b[1;33m(\u001b[0m\u001b[0mremaining_data\u001b[0m\u001b[1;33m[\u001b[0m\u001b[1;36m2\u001b[0m\u001b[1;33m:\u001b[0m\u001b[1;33m]\u001b[0m\u001b[1;33m)\u001b[0m \u001b[1;33m<\u001b[0m \u001b[0mtlv_len\u001b[0m\u001b[1;33m:\u001b[0m\u001b[1;33m\u001b[0m\u001b[1;33m\u001b[0m\u001b[0m\n\u001b[0;32m    220\u001b[0m             \u001b[1;31m# the remaining data is less than the encoded length\u001b[0m\u001b[1;33m\u001b[0m\u001b[1;33m\u001b[0m\u001b[1;33m\u001b[0m\u001b[0m\n\u001b[1;32m--> 221\u001b[1;33m             \u001b[1;32mraise\u001b[0m \u001b[0mValueError\u001b[0m\u001b[1;33m(\u001b[0m\u001b[1;34m'Not enough data left. {} vs {}'\u001b[0m\u001b[1;33m.\u001b[0m\u001b[0mformat\u001b[0m\u001b[1;33m(\u001b[0m\u001b[0mlen\u001b[0m\u001b[1;33m(\u001b[0m\u001b[0mremaining_data\u001b[0m\u001b[1;33m[\u001b[0m\u001b[1;36m2\u001b[0m\u001b[1;33m:\u001b[0m\u001b[1;33m]\u001b[0m\u001b[1;33m)\u001b[0m\u001b[1;33m,\u001b[0m \u001b[0mtlv_len\u001b[0m\u001b[1;33m)\u001b[0m\u001b[1;33m)\u001b[0m\u001b[1;33m\u001b[0m\u001b[1;33m\u001b[0m\u001b[0m\n\u001b[0m\u001b[0;32m    222\u001b[0m         \u001b[0mtlv_data\u001b[0m \u001b[1;33m=\u001b[0m \u001b[0mremaining_data\u001b[0m\u001b[1;33m[\u001b[0m\u001b[1;36m2\u001b[0m\u001b[1;33m:\u001b[0m\u001b[1;36m2\u001b[0m \u001b[1;33m+\u001b[0m \u001b[0mtlv_len\u001b[0m\u001b[1;33m]\u001b[0m\u001b[1;33m\u001b[0m\u001b[1;33m\u001b[0m\u001b[0m\n\u001b[0;32m    223\u001b[0m         \u001b[1;32mif\u001b[0m \u001b[0mlen\u001b[0m\u001b[1;33m(\u001b[0m\u001b[0mtmp\u001b[0m\u001b[1;33m)\u001b[0m \u001b[1;33m>\u001b[0m \u001b[1;36m0\u001b[0m \u001b[1;32mand\u001b[0m \u001b[0mtmp\u001b[0m\u001b[1;33m[\u001b[0m\u001b[1;33m-\u001b[0m\u001b[1;36m1\u001b[0m\u001b[1;33m]\u001b[0m\u001b[1;33m.\u001b[0m\u001b[0mtype_id\u001b[0m \u001b[1;33m==\u001b[0m \u001b[0mtlv_id\u001b[0m\u001b[1;33m:\u001b[0m\u001b[1;33m\u001b[0m\u001b[1;33m\u001b[0m\u001b[0m\n",
      "\u001b[1;31mValueError\u001b[0m: Not enough data left. 10 vs 22"
     ]
    }
   ],
   "source": [
    "import base64\n",
    "import tlv8\n",
    "\n",
    "m = \"6BZGCAAAAAAAAAAf6BZHCAAAAAAAAAAz6BZICAAAAAAAAAPw\"\n",
    "mb = base64.b64decode(m)\n",
    "print(mb)\n",
    "\n",
    "tlv8.decode(mb)"
   ]
  },
  {
   "cell_type": "code",
   "execution_count": null,
   "metadata": {},
   "outputs": [],
   "source": []
  }
 ],
 "metadata": {
  "kernelspec": {
   "display_name": "Python 3.9.1 64-bit ('cloud-LmIG7SCj')",
   "metadata": {
    "interpreter": {
     "hash": "0ad4075a8ac5e292cec4bd3dff5002fa4b6c758115b5c03c9ad7b9fcda3d34f3"
    }
   },
   "name": "python3"
  },
  "language_info": {
   "codemirror_mode": {
    "name": "ipython",
    "version": 3
   },
   "file_extension": ".py",
   "mimetype": "text/x-python",
   "name": "python",
   "nbconvert_exporter": "python",
   "pygments_lexer": "ipython3",
   "version": "3.9.1-final"
  },
  "orig_nbformat": 2
 },
 "nbformat": 4,
 "nbformat_minor": 2
}
